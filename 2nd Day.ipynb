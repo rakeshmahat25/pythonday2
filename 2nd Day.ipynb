{
 "cells": [
  {
   "cell_type": "markdown",
   "id": "34ce8fda",
   "metadata": {},
   "source": [
    "# Python Introduction\n"
   ]
  },
  {
   "cell_type": "code",
   "execution_count": 1,
   "id": "609d7042",
   "metadata": {},
   "outputs": [
    {
     "name": "stdout",
     "output_type": "stream",
     "text": [
      "Hello WOrld\n"
     ]
    }
   ],
   "source": [
    "print(\"Hello WOrld\")"
   ]
  },
  {
   "cell_type": "code",
   "execution_count": 3,
   "id": "95483f51",
   "metadata": {},
   "outputs": [
    {
     "name": "stdout",
     "output_type": "stream",
     "text": [
      "Hello World\n",
      "5\n",
      "Hello\n"
     ]
    }
   ],
   "source": [
    "print(\"Hello World\")\n",
    "print(5)\n",
    "print(\"Hello\")"
   ]
  },
  {
   "cell_type": "code",
   "execution_count": 4,
   "id": "a574d791",
   "metadata": {},
   "outputs": [
    {
     "name": "stdout",
     "output_type": "stream",
     "text": [
      "5\n"
     ]
    }
   ],
   "source": [
    "print(1+4)"
   ]
  },
  {
   "cell_type": "code",
   "execution_count": 5,
   "id": "ccfe941b",
   "metadata": {},
   "outputs": [
    {
     "name": "stdout",
     "output_type": "stream",
     "text": [
      "9876543210\n"
     ]
    }
   ],
   "source": [
    "print(\"9876543210\")"
   ]
  },
  {
   "cell_type": "code",
   "execution_count": 6,
   "id": "84eea2d0",
   "metadata": {},
   "outputs": [
    {
     "name": "stdout",
     "output_type": "stream",
     "text": [
      "a3\n"
     ]
    }
   ],
   "source": [
    "print(\"a\"+\"3\") #string"
   ]
  },
  {
   "cell_type": "code",
   "execution_count": 7,
   "id": "992d963c",
   "metadata": {},
   "outputs": [
    {
     "name": "stdout",
     "output_type": "stream",
     "text": [
      "7\n"
     ]
    }
   ],
   "source": [
    "print(3+4)"
   ]
  },
  {
   "cell_type": "code",
   "execution_count": null,
   "id": "28af4d5c",
   "metadata": {},
   "outputs": [],
   "source": [
    "print(3**2)"
   ]
  },
  {
   "cell_type": "markdown",
   "id": "7277c389",
   "metadata": {},
   "source": [
    "power of the number"
   ]
  },
  {
   "cell_type": "code",
   "execution_count": 9,
   "id": "671c210f",
   "metadata": {},
   "outputs": [
    {
     "name": "stdout",
     "output_type": "stream",
     "text": [
      "12\n"
     ]
    }
   ],
   "source": [
    "print(2*3*2)"
   ]
  },
  {
   "cell_type": "code",
   "execution_count": 11,
   "id": "dc359ca9",
   "metadata": {},
   "outputs": [
    {
     "name": "stdout",
     "output_type": "stream",
     "text": [
      "1.3333333333333333\n"
     ]
    }
   ],
   "source": [
    "print(4/3) #quotient"
   ]
  },
  {
   "cell_type": "markdown",
   "id": "45dae3d5",
   "metadata": {},
   "source": [
    "## ESC + a -> Add the cell above\n",
    "## ESC + b -> Add the cell below'\n",
    "## ESC + d d -> delete the cell\n",
    "## Esc + m =-> change the markdown\n",
    "## Esc +y ->  change the code cell"
   ]
  },
  {
   "cell_type": "code",
   "execution_count": 12,
   "id": "cad70b56",
   "metadata": {},
   "outputs": [
    {
     "name": "stdout",
     "output_type": "stream",
     "text": [
      "2\n"
     ]
    }
   ],
   "source": [
    "print(6% 4) \n",
    "#remainder"
   ]
  },
  {
   "cell_type": "markdown",
   "id": "6ba9adf4",
   "metadata": {},
   "source": [
    "# Data types in Python"
   ]
  },
  {
   "cell_type": "markdown",
   "id": "66786175",
   "metadata": {},
   "source": [
    "## string\n",
    "## integer\n",
    "## float\n",
    "\n",
    "## complex"
   ]
  },
  {
   "cell_type": "code",
   "execution_count": 13,
   "id": "3ea16e88",
   "metadata": {},
   "outputs": [
    {
     "data": {
      "text/plain": [
       "str"
      ]
     },
     "execution_count": 13,
     "metadata": {},
     "output_type": "execute_result"
    }
   ],
   "source": [
    "type(\"Ram\")"
   ]
  },
  {
   "cell_type": "markdown",
   "id": "12225d3d",
   "metadata": {},
   "source": [
    "Note :Anything enclosed by double or single quotes is a string"
   ]
  },
  {
   "cell_type": "code",
   "execution_count": 14,
   "id": "a6d8cd12",
   "metadata": {},
   "outputs": [
    {
     "data": {
      "text/plain": [
       "int"
      ]
     },
     "execution_count": 14,
     "metadata": {},
     "output_type": "execute_result"
    }
   ],
   "source": [
    "type(233)"
   ]
  },
  {
   "cell_type": "code",
   "execution_count": 16,
   "id": "9df35ef1",
   "metadata": {},
   "outputs": [
    {
     "data": {
      "text/plain": [
       "float"
      ]
     },
     "execution_count": 16,
     "metadata": {},
     "output_type": "execute_result"
    }
   ],
   "source": [
    "type(0.2)"
   ]
  },
  {
   "cell_type": "code",
   "execution_count": 17,
   "id": "16a2781c",
   "metadata": {},
   "outputs": [
    {
     "data": {
      "text/plain": [
       "str"
      ]
     },
     "execution_count": 17,
     "metadata": {},
     "output_type": "execute_result"
    }
   ],
   "source": [
    "type(\"Nepali\")"
   ]
  },
  {
   "cell_type": "code",
   "execution_count": 18,
   "id": "4416f6f1",
   "metadata": {},
   "outputs": [
    {
     "data": {
      "text/plain": [
       "bool"
      ]
     },
     "execution_count": 18,
     "metadata": {},
     "output_type": "execute_result"
    }
   ],
   "source": [
    "type( True)"
   ]
  },
  {
   "cell_type": "code",
   "execution_count": 19,
   "id": "ec766f70",
   "metadata": {},
   "outputs": [
    {
     "data": {
      "text/plain": [
       "bool"
      ]
     },
     "execution_count": 19,
     "metadata": {},
     "output_type": "execute_result"
    }
   ],
   "source": [
    "type(False)"
   ]
  },
  {
   "cell_type": "code",
   "execution_count": 20,
   "id": "d53c14f4",
   "metadata": {},
   "outputs": [
    {
     "data": {
      "text/plain": [
       "str"
      ]
     },
     "execution_count": 20,
     "metadata": {},
     "output_type": "execute_result"
    }
   ],
   "source": [
    "type('Hari')"
   ]
  },
  {
   "cell_type": "code",
   "execution_count": 21,
   "id": "2d92a486",
   "metadata": {},
   "outputs": [
    {
     "data": {
      "text/plain": [
       "str"
      ]
     },
     "execution_count": 21,
     "metadata": {},
     "output_type": "execute_result"
    }
   ],
   "source": [
    "# alpha numeric also string\n",
    "type('a3144')"
   ]
  },
  {
   "cell_type": "markdown",
   "id": "6918837c",
   "metadata": {},
   "source": [
    "## boolean"
   ]
  },
  {
   "cell_type": "markdown",
   "id": "359b92f4",
   "metadata": {},
   "source": [
    "True or False"
   ]
  },
  {
   "cell_type": "code",
   "execution_count": 22,
   "id": "daa7f60d",
   "metadata": {},
   "outputs": [
    {
     "data": {
      "text/plain": [
       "True"
      ]
     },
     "execution_count": 22,
     "metadata": {},
     "output_type": "execute_result"
    }
   ],
   "source": [
    "a = 4\n",
    "a == 4 \n",
    "#"
   ]
  },
  {
   "cell_type": "code",
   "execution_count": 23,
   "id": "f26cdd41",
   "metadata": {},
   "outputs": [
    {
     "name": "stdout",
     "output_type": "stream",
     "text": [
      "Shyam\n",
      "Ram\n"
     ]
    }
   ],
   "source": [
    "name = \"Ram\"\n",
    "print('Shyam')\n",
    "print(name)"
   ]
  },
  {
   "cell_type": "code",
   "execution_count": 25,
   "id": "317910bd",
   "metadata": {},
   "outputs": [
    {
     "name": "stdout",
     "output_type": "stream",
     "text": [
      "<class 'str'>\n",
      "<class 'str'>\n"
     ]
    }
   ],
   "source": [
    "print(type(\"Ram\"))\n",
    "print(type(name))"
   ]
  },
  {
   "cell_type": "markdown",
   "id": "aa27a7bd",
   "metadata": {},
   "source": [
    "### if the value is string than the variable type is also the sting\n",
    "#### name = \"Ram\"\n",
    "#### print(type(name))"
   ]
  },
  {
   "cell_type": "code",
   "execution_count": 36,
   "id": "98a33d76",
   "metadata": {},
   "outputs": [
    {
     "name": "stdout",
     "output_type": "stream",
     "text": [
      "My name is  Rakesh . I am  24 My address Kalanki\n"
     ]
    }
   ],
   "source": [
    "name = \"Rakesh\"\n",
    "age = \"24\"\n",
    "address = \"Kalanki\"\n",
    "phone = \"9876543210\"\n",
    "print(\"My name is \", name,\".\",  \"I am \", age, \"My address\", address)\n"
   ]
  },
  {
   "cell_type": "code",
   "execution_count": 38,
   "id": "243dbdc6",
   "metadata": {},
   "outputs": [
    {
     "name": "stdout",
     "output_type": "stream",
     "text": [
      "My name is Rakesh. I am 24. Address Kalanki, Phone 9876543210\n"
     ]
    }
   ],
   "source": [
    "print(f\"My name is {name}. I am {age}. Address {address}, Phone {phone}\")"
   ]
  },
  {
   "cell_type": "markdown",
   "id": "20fa715d",
   "metadata": {},
   "source": [
    "# f-string or String formating"
   ]
  },
  {
   "cell_type": "code",
   "execution_count": null,
   "id": "957f5f1c",
   "metadata": {},
   "outputs": [],
   "source": [
    "# variable use\n"
   ]
  }
 ],
 "metadata": {
  "kernelspec": {
   "display_name": "Python 3 (ipykernel)",
   "language": "python",
   "name": "python3"
  },
  "language_info": {
   "codemirror_mode": {
    "name": "ipython",
    "version": 3
   },
   "file_extension": ".py",
   "mimetype": "text/x-python",
   "name": "python",
   "nbconvert_exporter": "python",
   "pygments_lexer": "ipython3",
   "version": "3.9.7"
  }
 },
 "nbformat": 4,
 "nbformat_minor": 5
}
